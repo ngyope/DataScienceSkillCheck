{
 "cells": [
  {
   "cell_type": "markdown",
   "id": "78127756-ed03-482c-b2c4-d353e50d66f9",
   "metadata": {
    "tags": []
   },
   "source": [
    "# **重回帰分析の基礎**\n",
    "重回帰分析において偏回帰係数と標準偏回帰係数、重相関係数について説明できる"
   ]
  },
  {
   "cell_type": "markdown",
   "id": "0f02aa0b-933e-4e99-802a-a53fdd0a699d",
   "metadata": {
    "tags": []
   },
   "source": [
    "### **単回帰分析と重回帰分析**"
   ]
  },
  {
   "cell_type": "markdown",
   "id": "6f4b56cf-295c-4aca-98fe-7e81ebe5dd6c",
   "metadata": {},
   "source": [
    "回帰分析において、説明変数がただ一つの場合を**単回帰分析**または**単純回帰分析**と呼ぶ。  \n",
    "一方、二つ以上の説明変数を考えた場合を**重回帰分析**と呼ぶ。"
   ]
  },
  {
   "cell_type": "markdown",
   "id": "6ac14a34-ffcb-4490-a603-83683439f594",
   "metadata": {},
   "source": [
    "重回帰分析は複数の説明変数を含むもので、母集団において以下となるモデルを指す。\n",
    "\n",
    "$ Y_i = \\beta_1 + \\beta_2 X_{2i} + \\beta_3  X_{3i} + ... + \\beta_k X_{ki} + \\epsilon_i (i = 1, 2, 3, ..., n) $\n",
    "\n",
    "$ X_2, X_3, ..., X_k $ は説明変数、$ \\epsilon $ は誤差項。"
   ]
  },
  {
   "cell_type": "markdown",
   "id": "05b42f14-b2ae-4b6b-9c6d-0482b1d98c0d",
   "metadata": {},
   "source": [
    "$ \\beta_1, \\beta_2, \\beta_3, ..., \\beta_k $ を**母(偏)回帰係数**と呼ぶ。これは、ある説明変数の (**ほかの説明変数の影響を除いた**、純粋の) 影響を表している。"
   ]
  },
  {
   "cell_type": "code",
   "execution_count": 1,
   "id": "3643ebdb-a88b-42b8-a18f-627397fa0a9e",
   "metadata": {
    "tags": []
   },
   "outputs": [],
   "source": [
    "# モジュールとデータの読み込み\n",
    "import numpy as np\n",
    "import statsmodels.api as sm\n",
    "import scipy\n",
    "\n",
    "spector_data = sm.datasets.spector.load()\n",
    "spector_data.exog = sm.add_constant(spector_data.exog, prepend=False)"
   ]
  },
  {
   "cell_type": "code",
   "execution_count": 2,
   "id": "64a8a9cd-6b51-4694-9017-d1f9b2d9c8b5",
   "metadata": {
    "tags": []
   },
   "outputs": [
    {
     "name": "stdout",
     "output_type": "stream",
     "text": [
      "                            OLS Regression Results                            \n",
      "==============================================================================\n",
      "Dep. Variable:                  GRADE   R-squared:                       0.416\n",
      "Model:                            OLS   Adj. R-squared:                  0.353\n",
      "Method:                 Least Squares   F-statistic:                     6.646\n",
      "Date:                Mon, 14 Aug 2023   Prob (F-statistic):            0.00157\n",
      "Time:                        09:26:04   Log-Likelihood:                -12.978\n",
      "No. Observations:                  32   AIC:                             33.96\n",
      "Df Residuals:                      28   BIC:                             39.82\n",
      "Df Model:                           3                                         \n",
      "Covariance Type:            nonrobust                                         \n",
      "==============================================================================\n",
      "                 coef    std err          t      P>|t|      [0.025      0.975]\n",
      "------------------------------------------------------------------------------\n",
      "GPA            0.4639      0.162      2.864      0.008       0.132       0.796\n",
      "TUCE           0.0105      0.019      0.539      0.594      -0.029       0.050\n",
      "PSI            0.3786      0.139      2.720      0.011       0.093       0.664\n",
      "const         -1.4980      0.524     -2.859      0.008      -2.571      -0.425\n",
      "==============================================================================\n",
      "Omnibus:                        0.176   Durbin-Watson:                   2.346\n",
      "Prob(Omnibus):                  0.916   Jarque-Bera (JB):                0.167\n",
      "Skew:                           0.141   Prob(JB):                        0.920\n",
      "Kurtosis:                       2.786   Cond. No.                         176.\n",
      "==============================================================================\n",
      "\n",
      "Notes:\n",
      "[1] Standard Errors assume that the covariance matrix of the errors is correctly specified.\n"
     ]
    }
   ],
   "source": [
    "# OLS モデルの当てはめとサマリ\n",
    "mod = sm.OLS(spector_data.endog, spector_data.exog)\n",
    "res = mod.fit()\n",
    "print(res.summary())\n",
    "\n",
    "# coef が各説明変数の偏回帰係数"
   ]
  },
  {
   "cell_type": "markdown",
   "id": "6a4aaa71-f4f5-40dd-832a-37cbce0d591d",
   "metadata": {
    "tags": []
   },
   "source": [
    "### **回帰係数の推定と最小二乗法、決定係数**"
   ]
  },
  {
   "cell_type": "markdown",
   "id": "aa5650db-9ca6-4217-8b10-48679fefbc28",
   "metadata": {},
   "source": [
    "重回帰分析にはk個の未知の母(偏)回帰係数が存在するが、その推定には単回帰分析同様、**最小二乗法**が用いられる。\n",
    "\n",
    "誤差項 $ \\epsilon_i = Y_i - (\\beta_1 + \\beta_2 X_{2i} + \\beta_3 X_{3i} + ... + \\beta_k X_{ki}) $ の平方和 $ S = \\sum {{\\epsilon_i}^2} $ を考えそれを最小にする。"
   ]
  },
  {
   "cell_type": "markdown",
   "id": "52ae1a70-1abb-4419-aa65-a25e1daa08bc",
   "metadata": {},
   "source": [
    "単回帰分析と同様、重回帰分析でもモデルの当てはまりの良さを表すのに**決定係数** $ \\eta^2 $ を用いる。\n",
    "\n",
    "$ \\eta^2 = \\frac{\\sum(\\hat{Y}_i - \\bar{Y})^2} {\\sum(Y_i - \\bar{Y})^2} = 1 - \\frac{\\sum{\\hat{e}_i}^2} {\\sum(Y_i - \\bar{Y})^2} $ ここで $ \\hat{e}_i $ は回帰残差を表す。\n",
    "\n",
    "決定係数の正の平方根を**重相関係数**といい、$ R $ で表す。これは単回帰分析の通常の相関係数 $ r $ の一般化であり、 $ \\eta^2 = r^2 $ であったのに対応して、$ \\eta^2 = R^2 $ となる。\n"
   ]
  },
  {
   "cell_type": "code",
   "execution_count": 4,
   "id": "2cc79854-74d0-4c83-896b-cce87477f3c1",
   "metadata": {
    "tags": []
   },
   "outputs": [
    {
     "name": "stdout",
     "output_type": "stream",
     "text": [
      "                            OLS Regression Results                            \n",
      "==============================================================================\n",
      "Dep. Variable:                  GRADE   R-squared:                       0.416\n",
      "Model:                            OLS   Adj. R-squared:                  0.353\n",
      "Method:                 Least Squares   F-statistic:                     6.646\n",
      "Date:                Mon, 14 Aug 2023   Prob (F-statistic):            0.00157\n",
      "Time:                        09:27:45   Log-Likelihood:                -12.978\n",
      "No. Observations:                  32   AIC:                             33.96\n",
      "Df Residuals:                      28   BIC:                             39.82\n",
      "Df Model:                           3                                         \n",
      "Covariance Type:            nonrobust                                         \n",
      "==============================================================================\n",
      "                 coef    std err          t      P>|t|      [0.025      0.975]\n",
      "------------------------------------------------------------------------------\n",
      "GPA            0.4639      0.162      2.864      0.008       0.132       0.796\n",
      "TUCE           0.0105      0.019      0.539      0.594      -0.029       0.050\n",
      "PSI            0.3786      0.139      2.720      0.011       0.093       0.664\n",
      "const         -1.4980      0.524     -2.859      0.008      -2.571      -0.425\n",
      "==============================================================================\n",
      "Omnibus:                        0.176   Durbin-Watson:                   2.346\n",
      "Prob(Omnibus):                  0.916   Jarque-Bera (JB):                0.167\n",
      "Skew:                           0.141   Prob(JB):                        0.920\n",
      "Kurtosis:                       2.786   Cond. No.                         176.\n",
      "==============================================================================\n",
      "\n",
      "Notes:\n",
      "[1] Standard Errors assume that the covariance matrix of the errors is correctly specified.\n"
     ]
    }
   ],
   "source": [
    "# R-squared が重相関係数\n",
    "print(res.summary())"
   ]
  },
  {
   "cell_type": "markdown",
   "id": "37488efa-5483-4ebf-824d-81850a50d7c4",
   "metadata": {
    "tags": []
   },
   "source": [
    "### **標準化偏回帰係数**"
   ]
  },
  {
   "cell_type": "markdown",
   "id": "3def3cb6-0104-4686-8ede-46a019e1f1fc",
   "metadata": {
    "tags": []
   },
   "source": [
    "単位の異なる複数の説明変数が重回帰分析のモデルに含まれた場合、回帰分析の結果 (とくに、変数の影響力の大きさ) を理解するのに混乱が生じる場合がある。\n",
    "\n",
    "そのため、各変数からその標本平均、標本標準偏差を使って標準化し、 $ (X_{ki} - \\bar{X_k}) / s_{x_k},  (Y_i - \\bar{Y}) / s_y $ について回帰分析を行うことも多い。\n",
    "\n",
    "この場合の偏回帰係数を**標準化(偏)回帰係数**ないしは**標準偏回帰係数**という。"
   ]
  },
  {
   "cell_type": "code",
   "execution_count": 5,
   "id": "423a6e0a-fed9-4459-8e92-b7286ed0c325",
   "metadata": {
    "tags": []
   },
   "outputs": [],
   "source": [
    "# データロード\n",
    "spector_data = sm.datasets.spector.load()\n",
    "\n",
    "# 標準化と切片項の付与\n",
    "## scipy.stats.zscore() を用いて変数の標準化を行う\n",
    "spector_data.exog = sm.add_constant(scipy.stats.zscore(spector_data.exog), prepend=False)"
   ]
  },
  {
   "cell_type": "code",
   "execution_count": 7,
   "id": "882caaeb-b9f7-430c-8250-238960b62dc3",
   "metadata": {
    "tags": []
   },
   "outputs": [
    {
     "name": "stdout",
     "output_type": "stream",
     "text": [
      "                            OLS Regression Results                            \n",
      "==============================================================================\n",
      "Dep. Variable:                  GRADE   R-squared:                       0.416\n",
      "Model:                            OLS   Adj. R-squared:                  0.353\n",
      "Method:                 Least Squares   F-statistic:                     6.646\n",
      "Date:                Mon, 14 Aug 2023   Prob (F-statistic):            0.00157\n",
      "Time:                        09:29:39   Log-Likelihood:                -12.978\n",
      "No. Observations:                  32   AIC:                             33.96\n",
      "Df Residuals:                      28   BIC:                             39.82\n",
      "Df Model:                           3                                         \n",
      "Covariance Type:            nonrobust                                         \n",
      "==============================================================================\n",
      "                 coef    std err          t      P>|t|      [0.025      0.975]\n",
      "------------------------------------------------------------------------------\n",
      "GPA            0.2131      0.074      2.864      0.008       0.061       0.365\n",
      "TUCE           0.0403      0.075      0.539      0.594      -0.113       0.194\n",
      "PSI            0.1878      0.069      2.720      0.011       0.046       0.329\n",
      "const          0.3438      0.069      5.011      0.000       0.203       0.484\n",
      "==============================================================================\n",
      "Omnibus:                        0.176   Durbin-Watson:                   2.346\n",
      "Prob(Omnibus):                  0.916   Jarque-Bera (JB):                0.167\n",
      "Skew:                           0.141   Prob(JB):                        0.920\n",
      "Kurtosis:                       2.786   Cond. No.                         1.53\n",
      "==============================================================================\n",
      "\n",
      "Notes:\n",
      "[1] Standard Errors assume that the covariance matrix of the errors is correctly specified.\n"
     ]
    }
   ],
   "source": [
    "# OLS モデルの当てはめとサマリ\n",
    "mod = sm.OLS(spector_data.endog, spector_data.exog)\n",
    "res = mod.fit()\n",
    "\n",
    "# 先ほどの結果とは各説明変数の偏回帰係数の値が異なるのが分かる\n",
    "print(res.summary())"
   ]
  },
  {
   "cell_type": "markdown",
   "id": "9174f1aa-cc4a-4d54-8d29-78866e5ac39b",
   "metadata": {
    "tags": []
   },
   "source": [
    "### **参考文献**"
   ]
  },
  {
   "cell_type": "markdown",
   "id": "5b539d28-6395-49a6-baae-4ac6a7b0a4ba",
   "metadata": {},
   "source": [
    "- 東京大学教養学部統計学教室編『統計学入門』(東京大学出版会、1991年)"
   ]
  },
  {
   "cell_type": "code",
   "execution_count": null,
   "id": "67cea9bb-7c64-4647-bab5-197e260abd74",
   "metadata": {},
   "outputs": [],
   "source": []
  }
 ],
 "metadata": {
  "kernelspec": {
   "display_name": "Python 3 (ipykernel)",
   "language": "python",
   "name": "python3"
  },
  "language_info": {
   "codemirror_mode": {
    "name": "ipython",
    "version": 3
   },
   "file_extension": ".py",
   "mimetype": "text/x-python",
   "name": "python",
   "nbconvert_exporter": "python",
   "pygments_lexer": "ipython3",
   "version": "3.11.3"
  }
 },
 "nbformat": 4,
 "nbformat_minor": 5
}
