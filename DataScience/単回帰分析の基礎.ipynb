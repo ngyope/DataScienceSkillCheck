{
 "cells": [
  {
   "cell_type": "markdown",
   "id": "78127756-ed03-482c-b2c4-d353e50d66f9",
   "metadata": {
    "tags": []
   },
   "source": [
    "# **回帰分析**\n",
    "データサイエンス力 No. 56: 予測 1 (回帰・分類)  \n",
    "単回帰分析において最小二乗法、回帰係数、標準誤差、決定係数を理解し、モデルを構築できる"
   ]
  },
  {
   "cell_type": "markdown",
   "id": "0f02aa0b-933e-4e99-802a-a53fdd0a699d",
   "metadata": {
    "tags": []
   },
   "source": [
    "### **回帰分析**"
   ]
  },
  {
   "cell_type": "markdown",
   "id": "6f4b56cf-295c-4aca-98fe-7e81ebe5dd6c",
   "metadata": {},
   "source": [
    "**回帰分析**は、2変数 $ X, Y $ のデータがあるとき**回帰方程式**と呼ばれる説明の関係を定量定期に表す式を求めることを目的としている。\n",
    "- 説明される変数を $ Y $ で表し、**従属変数、被説明変数、内生変数**などと呼ぶ。\n",
    "- 説明する変数を $ X $ で表し、**独立変数、説明変数、外生変数**などと呼ぶ。"
   ]
  },
  {
   "cell_type": "markdown",
   "id": "6ac14a34-ffcb-4490-a603-83683439f594",
   "metadata": {},
   "source": [
    "ここで、i番目の従属変数を $ Y_i $、i番目の独立変数を $ X_i $、バラつきの部分を $ \\epsilon_i $とすると、母集団において回帰方程式は以下のようになる。\n",
    "\n",
    "$ Y_i = \\beta_1+ \\beta_2 X_i + \\epsilon_i $\n",
    "\n",
    "\n",
    "このモデルを**母回帰方程式**と呼び、$ \\beta_1, \\beta_2 $を**母(偏)回帰係数**と呼ぶ。これは、母集団の値であるから一般にはわからない。これについて推定、検定するのが回帰分析である。"
   ]
  },
  {
   "cell_type": "markdown",
   "id": "05b42f14-b2ae-4b6b-9c6d-0482b1d98c0d",
   "metadata": {},
   "source": [
    "また、$ \\epsilon_i $は**誤差項** error term, **錯乱項** disturbance term と呼ばれ、次の三つの条件を満たす確率変数である。\n",
    "- 期待値は 0：$ (\\epsilon_i) = 0, i = 1, 2, ..., n $\n",
    "- 分散は一定で $ \\sigma^2：V(\\epsilon_i) = \\sigma^2, i = 1, 2, ..., n $\n",
    "- 異なった誤差項は無相関：$ i ≠ j $ ならば $ Cov(\\epsilon_i, \\epsilon_j) = E(\\epsilon_i, \\epsilon_j) = 0 $"
   ]
  },
  {
   "cell_type": "markdown",
   "id": "6a4aaa71-f4f5-40dd-832a-37cbce0d591d",
   "metadata": {
    "tags": []
   },
   "source": [
    "### **回帰係数の推定と最小二乗法**"
   ]
  },
  {
   "cell_type": "markdown",
   "id": "aa5650db-9ca6-4217-8b10-48679fefbc28",
   "metadata": {},
   "source": [
    "$ X $ によって説明できない誤差項は以下のとおりである。\n",
    "\n",
    "$ \\epsilon_i = Y_i - (\\beta_1 + \\beta_2 X_i), i = 1, 2, ..., n $\n",
    "\n",
    "$ \\epsilon_i $ の符合の影響を取り除くために以下のようにすると、 $ S $ は $ Y_i $ が $ X_i $ で説明できない部分の総和を表していることになる。\n",
    "\n",
    "$ S = \\sum(\\epsilon_i^2) = \\sum\\{Y_i - (\\beta_1 + \\beta_2 X_i)\\}^2 $\n",
    "\n",
    "この $ S $ を最小にする $ \\hat\\beta_1, \\hat\\beta_2 $ を $ \\beta_1, \\beta_2 $ の推定量とする。この考え方に基づく推定方法を**最小二乗法**と呼び、$ \\hat\\beta_1, \\hat\\beta_2 $ を**最小二乗推定量**と呼ぶ。この $ \\hat\\beta_1, \\hat\\beta_2 $ は以下の式で求められる。\n",
    "\n",
    "- $ \\hat\\beta_2 = \\frac{\\sum(X_i - \\bar{X})(Y_i - \\bar{Y})}{\\sum(X_i - \\bar{X})^2} $\n",
    "- $ \\hat\\beta_1 = \\bar{Y} - \\hat\\beta_2 \\bar{X}$"
   ]
  },
  {
   "cell_type": "markdown",
   "id": "52ae1a70-1abb-4419-aa65-a25e1daa08bc",
   "metadata": {},
   "source": [
    "ここで、実測値 $ Y_i $ の、回帰方程式に定められた回帰値 $ Y_i $ かれのずれである $ \\hat{e}_i $ は $ X $ で説明されずに残った分であり、これを**回帰残差**と呼ぶ。回帰残差は正負両方を含むが、全体の和は 0 となる。\n",
    "\n",
    "回帰残差 = $ \\hat{e}_i = Y_i - \\bar{Y_i} = Y_i - \\hat\\beta_1 - \\hat\\beta_2 X_i (i = 1, 2, ..., n) $"
   ]
  },
  {
   "cell_type": "markdown",
   "id": "ade61414-0059-4207-8179-9267b06e7134",
   "metadata": {},
   "source": [
    "誤差項 $ \\epsilon_i $ の分散 $ \\sigma^2 $ は回帰方程式の当てはまりの良さを表す。それは以下の式で表される。\n",
    "\n",
    "$ s^2 = \\sum \\hat{e}_i^2 / (n - 2) $\n",
    "\n",
    "回帰残差の平方和を $ (n - 2) $ で割るのは、 $ e_i $ は $ \\sum \\hat{e}_i = 0, \\sum \\hat{e}_i X_i = 0 $ の二つの条件を満たすため制限が加わり、自由度が 2 失われているためである。\n",
    "\n",
    "回帰値の当てはまりの良し悪しはこの $ s $ の値を基礎として判断される。その目安となるこの $ s $ を**推定量の標準誤差**とし、$ s.e. $ で表す。この値が小さければ小さいほど回帰式はよく適合している。"
   ]
  },
  {
   "cell_type": "markdown",
   "id": "37488efa-5483-4ebf-824d-81850a50d7c4",
   "metadata": {
    "tags": []
   },
   "source": [
    "### **回帰方程式の当てはまりと決定係数 $ \\eta^2 $**"
   ]
  },
  {
   "cell_type": "markdown",
   "id": "2ec8da7d-6792-407b-801b-92711ba84271",
   "metadata": {},
   "source": [
    "モデルの当てはまりの良さをはかる基準として一般に使われるのが**決定係数** $ \\eta^2 $ である。\n",
    "\n",
    "決定係数 $ \\eta^2 $ は $ Y_i $ の変動のうち $ X_i $ の回帰方程式で説明(決定)できる変動の割合を指し、以下の式で定義される。\n",
    "\n",
    "$ \\eta^2 ≡ 1 - \\frac{\\sum \\hat{e}_i^2} {\\sum(Y_i - \\bar{Y})^2} = \\frac{\\sum(\\hat{Y}_i - \\bar{Y})^2} {\\sum(Y_i - \\bar{Y})^2} $\n",
    "\n",
    "$ X_i $ が $ Y_i $ を完全に説明しているとき $ \\eta^2 $ は 1 をとり、全く説明できていない場合は 0 をとる。\n",
    "\n",
    "なお、線型の回帰式の場合、決定係数は $ \\eta^2 = r^2 $ ( $ r $は標本相関係数) となることが分かっている。"
   ]
  },
  {
   "cell_type": "markdown",
   "id": "249dad35-5f67-4dd6-97fe-30ba7c1d51c1",
   "metadata": {},
   "source": [
    "### **Python による実装**\n",
    "statsmodels API のサンプルより (ただし、サンプルは重回帰分析のもの)"
   ]
  },
  {
   "cell_type": "code",
   "execution_count": 4,
   "id": "6342a0cf-f6ca-42a4-bbfc-6c12113234aa",
   "metadata": {
    "tags": []
   },
   "outputs": [],
   "source": [
    "# モジュールとデータの読み込み\n",
    "import numpy as np\n",
    "import statsmodels.api as sm\n",
    "\n",
    "spector_data = sm.datasets.spector.load()\n",
    "spector_data.exog = sm.add_constant(spector_data.exog, prepend=False)"
   ]
  },
  {
   "cell_type": "code",
   "execution_count": 6,
   "id": "c4a63e22-009e-4397-ad9f-f3b4a3029bca",
   "metadata": {
    "tags": []
   },
   "outputs": [
    {
     "name": "stdout",
     "output_type": "stream",
     "text": [
      "                            OLS Regression Results                            \n",
      "==============================================================================\n",
      "Dep. Variable:                  GRADE   R-squared:                       0.416\n",
      "Model:                            OLS   Adj. R-squared:                  0.353\n",
      "Method:                 Least Squares   F-statistic:                     6.646\n",
      "Date:                Sat, 12 Aug 2023   Prob (F-statistic):            0.00157\n",
      "Time:                        04:12:51   Log-Likelihood:                -12.978\n",
      "No. Observations:                  32   AIC:                             33.96\n",
      "Df Residuals:                      28   BIC:                             39.82\n",
      "Df Model:                           3                                         \n",
      "Covariance Type:            nonrobust                                         \n",
      "==============================================================================\n",
      "                 coef    std err          t      P>|t|      [0.025      0.975]\n",
      "------------------------------------------------------------------------------\n",
      "GPA            0.4639      0.162      2.864      0.008       0.132       0.796\n",
      "TUCE           0.0105      0.019      0.539      0.594      -0.029       0.050\n",
      "PSI            0.3786      0.139      2.720      0.011       0.093       0.664\n",
      "const         -1.4980      0.524     -2.859      0.008      -2.571      -0.425\n",
      "==============================================================================\n",
      "Omnibus:                        0.176   Durbin-Watson:                   2.346\n",
      "Prob(Omnibus):                  0.916   Jarque-Bera (JB):                0.167\n",
      "Skew:                           0.141   Prob(JB):                        0.920\n",
      "Kurtosis:                       2.786   Cond. No.                         176.\n",
      "==============================================================================\n",
      "\n",
      "Notes:\n",
      "[1] Standard Errors assume that the covariance matrix of the errors is correctly specified.\n"
     ]
    }
   ],
   "source": [
    "# OLS モデルの当てはめとサマリ\n",
    "mod = sm.OLS(spector_data.endog, spector_data.exog)\n",
    "res = mod.fit()\n",
    "print(res.summary())"
   ]
  },
  {
   "cell_type": "markdown",
   "id": "9174f1aa-cc4a-4d54-8d29-78866e5ac39b",
   "metadata": {
    "tags": []
   },
   "source": [
    "### **参考文献**"
   ]
  },
  {
   "cell_type": "markdown",
   "id": "5b539d28-6395-49a6-baae-4ac6a7b0a4ba",
   "metadata": {},
   "source": [
    "- 東京大学教養学部統計学教室編『統計学入門』(東京大学出版会、1991年)"
   ]
  },
  {
   "cell_type": "code",
   "execution_count": null,
   "id": "67cea9bb-7c64-4647-bab5-197e260abd74",
   "metadata": {},
   "outputs": [],
   "source": []
  }
 ],
 "metadata": {
  "kernelspec": {
   "display_name": "Python 3 (ipykernel)",
   "language": "python",
   "name": "python3"
  },
  "language_info": {
   "codemirror_mode": {
    "name": "ipython",
    "version": 3
   },
   "file_extension": ".py",
   "mimetype": "text/x-python",
   "name": "python",
   "nbconvert_exporter": "python",
   "pygments_lexer": "ipython3",
   "version": "3.11.3"
  }
 },
 "nbformat": 4,
 "nbformat_minor": 5
}
