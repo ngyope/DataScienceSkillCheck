{
 "cells": [
  {
   "cell_type": "markdown",
   "id": "78127756-ed03-482c-b2c4-d353e50d66f9",
   "metadata": {
    "tags": []
   },
   "source": [
    "# **情報量規準**\n",
    "重回帰分析や判別分析を実行する際に変数選択手法の特徴を理解し、適用できる"
   ]
  },
  {
   "cell_type": "markdown",
   "id": "9416dd26-ef63-4683-8ba2-a39d48c8b32a",
   "metadata": {},
   "source": [
    "実際上、限られた個数の観測データから新の現象構造を正確に捉えるのは難しい。  \n",
    "そこで、データをもとに多数の候補となる統計モデルを構築し、もっともよく当てはまっているモデルを選択する。\n",
    "\n",
    "そのモデルの当てはまりの良さを評価する方法の一つに情報量規準がある。ここではその中でも特に有名な **AIC (赤池情報量規準)** と **BIC (ベイズ情報量規準)** について触れる。"
   ]
  },
  {
   "cell_type": "markdown",
   "id": "dda8591e-49ba-4f74-9355-e84949b55440",
   "metadata": {},
   "source": [
    "### **カルバック・ライブラー情報量 (KL 情報量)**"
   ]
  },
  {
   "cell_type": "markdown",
   "id": "350f7a35-18a2-4f49-b6ac-ac573a1a8a91",
   "metadata": {},
   "source": [
    "AIC や BIC に触れる前に、理論的前提となる **カルバック・ライブラー情報量** について触れる。\n",
    "\n",
    "カルバック・ライブラー情報量とは、2つの確率分布の差異をはかる尺度である。応用上は「真の」確率分布 $P$ とそれ以外の任意の確率分布 $Q$ に対するカルバック・ライブラー情報量が計算されることが多い。\n",
    "\n",
    "カルバック・ライブラー情報量は以下の式で計算される。\n",
    "\n",
    "- $ D_{KL}(P||Q) = \\sum_i P(i) log \\frac{P(i)}{Q(i)} $ ($P,Q$が離散確率分布の時。$P(i),Q(i)$は確率分布$P,Q$に従って選ばれた値が$i$の時の確率)\n",
    "- $ D_{KL}(P||Q) = \\int^∞_{-∞} p(x) log \\frac{p(x)}{q(x)} $ ($P,Q$が連続確率分布の時。$p,q$は$P,Q$の確率密度関数)\n"
   ]
  },
  {
   "cell_type": "markdown",
   "id": "15345b81-ab5a-43cc-b84f-3daa7f3b43cd",
   "metadata": {
    "tags": []
   },
   "source": [
    "### **AIC (赤池情報量規準)**"
   ]
  },
  {
   "cell_type": "markdown",
   "id": "6f4b56cf-295c-4aca-98fe-7e81ebe5dd6c",
   "metadata": {},
   "source": [
    "AIC は統計モデルを確率分布で表現し、その評価にカルバック・ライブラー情報量を採用することによって導かれたものである。\n",
    "\n",
    "$ AIC = -2 log(L) + 2k $ として定義される。なお、ここで $L$ は最大尤度、$k$は自由パラメータの数である。\n",
    "\n",
    "先述した通り、カルバック・ライブラー情報量は応用上は「真の」確率分布とそれ以外の任意の確率分布の差異の尺度として用いられることが多い。しかし、「真の」確率分布が事前に分かっているケースは稀なため、それを推定する必要がある。\n",
    "\n",
    "カルバック・ライブラー情報量を推定したものとして、**対数尤度**が用いられる。しかし、これはカルバック・ライブラー情報量の不変推定量ではなく、バイアスをもった推定量であることが知られている。このバイアスが $2k$ のため、AIC は右辺の第二項にその値を含めている。\n",
    "\n",
    "AIC の理論に従えば、AIC が最小になるモデルが良いモデルである。"
   ]
  },
  {
   "cell_type": "markdown",
   "id": "8e02b435-debe-472b-b7c5-6ef24103c6fb",
   "metadata": {
    "tags": []
   },
   "source": [
    "### **BIC (ベイズ情報量規準)**"
   ]
  },
  {
   "cell_type": "markdown",
   "id": "dc3d1115-e61b-4398-8d96-63872503cced",
   "metadata": {
    "tags": []
   },
   "source": [
    "BIC も AIC と並んでよく用いられる情報量規準の一つである。\n",
    "\n",
    "$ BIC = -2 log(L) + k log(n) $ として定義される。なお、ここで $L$ は最大尤度、$n$ は標本の大きさ、$k$ は自由パラメータの数である。\n",
    "\n",
    "BIC の理論に従えば、BIC が最小になるモデルが良いモデルである。"
   ]
  },
  {
   "cell_type": "markdown",
   "id": "b5c7bbfd-ed86-404c-8788-8bc30c20f3bf",
   "metadata": {},
   "source": [
    "### **AIC や BIC を用いたモデル選定**"
   ]
  },
  {
   "cell_type": "markdown",
   "id": "8ac65882-f552-421a-bf07-d713c6c818b5",
   "metadata": {
    "tags": []
   },
   "source": [
    "statsmodels.api のライブラリを使えば、AIC や BIC も簡単に算出可能である。"
   ]
  },
  {
   "cell_type": "code",
   "execution_count": 37,
   "id": "2b521fd0-0ed9-49e5-87ed-bfb0b921ff65",
   "metadata": {
    "tags": []
   },
   "outputs": [],
   "source": [
    "# モジュールとデータの読み込み\n",
    "import numpy as np\n",
    "import statsmodels.api as sm\n",
    "import scipy\n",
    "\n",
    "spector_data = sm.datasets.spector.load()\n",
    "spector_data.exog = sm.add_constant(spector_data.exog, prepend=False)"
   ]
  },
  {
   "cell_type": "code",
   "execution_count": 38,
   "id": "a1651daa-37a2-41bb-8bd0-6408da7558b3",
   "metadata": {
    "tags": []
   },
   "outputs": [
    {
     "name": "stdout",
     "output_type": "stream",
     "text": [
      "                            OLS Regression Results                            \n",
      "==============================================================================\n",
      "Dep. Variable:                  GRADE   R-squared:                       0.416\n",
      "Model:                            OLS   Adj. R-squared:                  0.353\n",
      "Method:                 Least Squares   F-statistic:                     6.646\n",
      "Date:                Mon, 14 Aug 2023   Prob (F-statistic):            0.00157\n",
      "Time:                        13:21:30   Log-Likelihood:                -12.978\n",
      "No. Observations:                  32   AIC:                             33.96\n",
      "Df Residuals:                      28   BIC:                             39.82\n",
      "Df Model:                           3                                         \n",
      "Covariance Type:            nonrobust                                         \n",
      "==============================================================================\n",
      "                 coef    std err          t      P>|t|      [0.025      0.975]\n",
      "------------------------------------------------------------------------------\n",
      "GPA            0.4639      0.162      2.864      0.008       0.132       0.796\n",
      "TUCE           0.0105      0.019      0.539      0.594      -0.029       0.050\n",
      "PSI            0.3786      0.139      2.720      0.011       0.093       0.664\n",
      "const         -1.4980      0.524     -2.859      0.008      -2.571      -0.425\n",
      "==============================================================================\n",
      "Omnibus:                        0.176   Durbin-Watson:                   2.346\n",
      "Prob(Omnibus):                  0.916   Jarque-Bera (JB):                0.167\n",
      "Skew:                           0.141   Prob(JB):                        0.920\n",
      "Kurtosis:                       2.786   Cond. No.                         176.\n",
      "==============================================================================\n",
      "\n",
      "Notes:\n",
      "[1] Standard Errors assume that the covariance matrix of the errors is correctly specified.\n"
     ]
    }
   ],
   "source": [
    "# OLS モデルの当てはめとサマリ\n",
    "mod = sm.OLS(spector_data.endog, spector_data.exog)\n",
    "res = mod.fit()\n",
    "\n",
    "# サマリの　AIC, BIC の項にそれぞれ当該モデルの AIC, BIC の値が表示される\n",
    "print(res.summary())"
   ]
  },
  {
   "cell_type": "markdown",
   "id": "a86425aa-523b-4fc9-b8fd-042b44b47bf6",
   "metadata": {
    "tags": []
   },
   "source": [
    "説明変数として含めるものを変えて AIC, BIC を算出する。"
   ]
  },
  {
   "cell_type": "code",
   "execution_count": 59,
   "id": "ab1889f3-2f33-41ba-8297-0d5d9864f256",
   "metadata": {
    "tags": []
   },
   "outputs": [
    {
     "name": "stdout",
     "output_type": "stream",
     "text": [
      "GPA と切片のみのモデル\n",
      "AIC: 38.07764138094392\n",
      "BIC: 41.009113186543374\n"
     ]
    }
   ],
   "source": [
    "# GPA と切片のみのモデル\n",
    "res = sm.OLS(spector_data.endog, spector_data.exog[[\"GPA\", \"const\"]]).fit()\n",
    "\n",
    "print(\"GPA と切片のみのモデル\")\n",
    "print(\"AIC: {}\".format(res.aic))\n",
    "print(\"BIC: {}\".format(res.bic))"
   ]
  },
  {
   "cell_type": "code",
   "execution_count": 60,
   "id": "acb251dc-e166-410f-8bad-eb2e0867a975",
   "metadata": {
    "tags": []
   },
   "outputs": [
    {
     "name": "stdout",
     "output_type": "stream",
     "text": [
      "TUCE と切片のみのモデル\n",
      "AIC: 44.07953467447594\n",
      "BIC: 47.01100648007539\n"
     ]
    }
   ],
   "source": [
    "# TUCE と切片のみのモデル\n",
    "res = sm.OLS(spector_data.endog, spector_data.exog[[\"TUCE\", \"const\"]]).fit()\n",
    "\n",
    "print(\"TUCE と切片のみのモデル\")\n",
    "print(\"AIC: {}\".format(res.aic))\n",
    "print(\"BIC: {}\".format(res.bic))"
   ]
  },
  {
   "cell_type": "code",
   "execution_count": 61,
   "id": "b24d2863-1e39-4dd4-bdf9-14a377e07f01",
   "metadata": {
    "tags": []
   },
   "outputs": [
    {
     "name": "stdout",
     "output_type": "stream",
     "text": [
      "PSI と切片のみのモデル\n",
      "AIC: 40.86158213731066\n",
      "BIC: 43.79305394291011\n"
     ]
    }
   ],
   "source": [
    "# PSI と切片のみのモデル\n",
    "res = sm.OLS(spector_data.endog, spector_data.exog[[\"PSI\", \"const\"]]).fit()\n",
    "\n",
    "print(\"PSI と切片のみのモデル\")\n",
    "print(\"AIC: {}\".format(res.aic))\n",
    "print(\"BIC: {}\".format(res.bic))"
   ]
  },
  {
   "cell_type": "code",
   "execution_count": 62,
   "id": "2257e835-1a95-48a2-aae4-e5ba11ba0e07",
   "metadata": {
    "tags": []
   },
   "outputs": [
    {
     "name": "stdout",
     "output_type": "stream",
     "text": [
      "GPA, TUCE と切片のみのモデル\n",
      "AIC: 39.45945421565483\n",
      "BIC: 43.85666192405401\n"
     ]
    }
   ],
   "source": [
    "# GPA, TUCE と切片のみのモデル\n",
    "res = sm.OLS(spector_data.endog, spector_data.exog[[\"GPA\", \"TUCE\", \"const\"]]).fit()\n",
    "\n",
    "print(\"GPA, TUCE と切片のみのモデル\")\n",
    "print(\"AIC: {}\".format(res.aic))\n",
    "print(\"BIC: {}\".format(res.bic))"
   ]
  },
  {
   "cell_type": "code",
   "execution_count": 63,
   "id": "e89a4126-0624-453f-8c46-a371a791a6f2",
   "metadata": {
    "tags": []
   },
   "outputs": [
    {
     "name": "stdout",
     "output_type": "stream",
     "text": [
      "GPA, PSI と切片のみのモデル\n",
      "AIC: 32.286421750768724\n",
      "BIC: 36.6836294591679\n"
     ]
    }
   ],
   "source": [
    "# GPA, PSI と切片のみのモデル\n",
    "res = sm.OLS(spector_data.endog, spector_data.exog[[\"GPA\", \"PSI\", \"const\"]]).fit()\n",
    "\n",
    "print(\"GPA, PSI と切片のみのモデル\")\n",
    "print(\"AIC: {}\".format(res.aic))\n",
    "print(\"BIC: {}\".format(res.bic))"
   ]
  },
  {
   "cell_type": "code",
   "execution_count": 64,
   "id": "08c2f010-b1fc-4aee-b329-62f42d3a70a1",
   "metadata": {
    "tags": []
   },
   "outputs": [
    {
     "name": "stdout",
     "output_type": "stream",
     "text": [
      "GPA, TUCE, PSI と切片全てを含むモデル\n",
      "AIC: 33.95649234217083\n",
      "BIC: 39.81943595336974\n"
     ]
    }
   ],
   "source": [
    "# GPA, TUCE, PSI と切片全てを含むモデル\n",
    "res = sm.OLS(spector_data.endog, spector_data.exog[[\"GPA\", \"TUCE\", \"PSI\", \"const\"]]).fit()\n",
    "\n",
    "print(\"GPA, TUCE, PSI と切片全てを含むモデル\")\n",
    "print(\"AIC: {}\".format(res.aic))\n",
    "print(\"BIC: {}\".format(res.bic))"
   ]
  },
  {
   "cell_type": "markdown",
   "id": "0ac6bb95-59c6-4d75-9fbf-76f73bbd30ce",
   "metadata": {},
   "source": [
    "AIC, BIC ともに最小となるモデルは GPA, PSI と切片を含むモデルである。  \n",
    "AIC, BIC いずれにおいても、最良のモデルは**GPA, PSI と切片を含むモデル**と言える。"
   ]
  },
  {
   "cell_type": "markdown",
   "id": "9174f1aa-cc4a-4d54-8d29-78866e5ac39b",
   "metadata": {
    "tags": []
   },
   "source": [
    "### **参考文献**"
   ]
  },
  {
   "cell_type": "markdown",
   "id": "5b539d28-6395-49a6-baae-4ac6a7b0a4ba",
   "metadata": {},
   "source": [
    "- 赤池弘次「AIC と MDL と BIC」『オペレーションズ・リサーチ』41 (7)、1996年、375-378頁\n",
    "- 黒住英司「情報量規準とその落とし穴」https://gcoe.ier.hit-u.ac.jp/vox/017.html、2023年8月アクセス\n",
    "- 小西貞則「統計的モデリングと情報量規準」『応用数理』10 (3)、2000年、198-217頁"
   ]
  },
  {
   "cell_type": "code",
   "execution_count": null,
   "id": "67cea9bb-7c64-4647-bab5-197e260abd74",
   "metadata": {},
   "outputs": [],
   "source": []
  }
 ],
 "metadata": {
  "kernelspec": {
   "display_name": "Python 3 (ipykernel)",
   "language": "python",
   "name": "python3"
  },
  "language_info": {
   "codemirror_mode": {
    "name": "ipython",
    "version": 3
   },
   "file_extension": ".py",
   "mimetype": "text/x-python",
   "name": "python",
   "nbconvert_exporter": "python",
   "pygments_lexer": "ipython3",
   "version": "3.11.3"
  }
 },
 "nbformat": 4,
 "nbformat_minor": 5
}
