{
 "cells": [
  {
   "cell_type": "markdown",
   "id": "63f85f39-9a5a-477f-9391-cc87fee1c79d",
   "metadata": {},
   "source": [
    "# **ロジット・モデルとロジスティック回帰**\n",
    "線形回帰分析は量的な変数を予測し、ロジスティック回帰分析は二値の質的な変数を予測する手法であることを説明できる"
   ]
  },
  {
   "cell_type": "markdown",
   "id": "cbfa0454-91f3-4515-af1e-c84189666974",
   "metadata": {},
   "source": [
    "### **二値データ**"
   ]
  },
  {
   "cell_type": "markdown",
   "id": "4427a920-73e3-46cc-892c-b1afbc9fcafb",
   "metadata": {},
   "source": [
    "薬剤による生物の生死、消費者が自動車を購入したかどうかなど、標本の質的特性のみがデータとして得られる場合がある。  \n",
    "このような反応を**二項反応**と呼び、このように定量化できず対象の状態のみを知ることができるデータを**質的データ**と呼ぶ。"
   ]
  },
  {
   "cell_type": "markdown",
   "id": "5add9d0d-e7da-494c-b4ad-2147940796e9",
   "metadata": {
    "tags": []
   },
   "source": [
    "質的データの分析には**分割表**に基づくものと、回帰分析の考え方を応用した確率モデルを使う方法と二種類存在する。  \n",
    "ここでは後者の、回帰分析の考え方を応用した確率モデルについて考える。"
   ]
  },
  {
   "cell_type": "markdown",
   "id": "4ab6e333-f79d-4c8c-8fdb-c1b163d8dd1a",
   "metadata": {
    "tags": []
   },
   "source": [
    "質的データのなかでも最も基本的で、かつ重要なのは観測結果が成功 / 失敗のように二つの状態を取る**二項的**な場合である。  \n",
    "この場合、たとえば成功を 1、失敗を 0 とする**ダミー変数** $ Y_i $ を使って観測結果を表す。このようなデータを**二値データ**という。\n",
    "\n",
    "二値データの統計分析手法で最もポピュラーなものが**ロジット・モデル (ないしはロジスティック・モデル)** や**プロビット・モデル**と呼ばれるものである。本稿ではそのうちロジット・モデルのまとめを行う。"
   ]
  },
  {
   "cell_type": "markdown",
   "id": "46a21fa6-678c-4a19-ac38-ba9faf12593f",
   "metadata": {},
   "source": [
    "### **ロジット・モデル**"
   ]
  },
  {
   "cell_type": "markdown",
   "id": "6e65bdea-ca22-47a7-984f-c04c868895a8",
   "metadata": {},
   "source": [
    "ロジット・モデルは誤差項の確率分布がロジスティック分布である。ロジスティック分布の累積分布関数 $ \\Lambda(z) = \\frac{e^z}{1 + e^z} $ を用いて $ Y_i = 1 $ となる確率を $F^*(X_i) = \\Lambda(\\beta_0 + \\beta_1 X_i) $ とするものである。"
   ]
  },
  {
   "cell_type": "markdown",
   "id": "b9dd0865-57e6-4978-91ac-10850a373b18",
   "metadata": {
    "tags": []
   },
   "source": [
    "ちなみに $ P_{0i} = P(Y_i=0|X_i), P_{1i} = P(Y_i=1|X_i) $ とすると、  \n",
    "$ P_{0i} = 1 - P_{1i} = 1/[1+exp(\\beta_0 + \\beta_1 X_i)] $ であるから、 $ log(P_{1i}/P_{0i}) = \\beta_0 + \\beta_1 X_i $ となる。"
   ]
  },
  {
   "cell_type": "markdown",
   "id": "94c6f9f3-47d0-499c-9496-b93faf0ca022",
   "metadata": {},
   "source": [
    "すなわち、ロジット・モデルは $Y_i$ が $0$ となるか $1$ となるかのふたつの確率の比 (オッズ) の対数、すなわち**対数オッズ**が $X_i$ の線形関数であることを意味する。"
   ]
  },
  {
   "cell_type": "markdown",
   "id": "8a976e17-841f-40e8-85cb-a55370a8190f",
   "metadata": {},
   "source": [
    "### **モデルの推定と最尤法**"
   ]
  },
  {
   "cell_type": "markdown",
   "id": "8f47207d-294a-4b50-bbf8-3c8ad2caccfb",
   "metadata": {},
   "source": [
    "ロジット・モデルの式は未知の母数 $ \\beta_0, \\beta_1 $ を含んでいるため、これを実際のデータから推定する必要がある。この推定には一般的に**最尤法**が用いられる。\n",
    "\n",
    "ロジット・モデルは誤差項の累積確率分布は $ \\Lambda(z) $ である。ある標本 $ Y_1, Y_2, ..., Y_n $ を得る同時確率は $ Y_i = 1 $の場合 $ F(\\beta_0 + \\beta_1 X_i) $ を、$ Y_i = 0 $ の場合 $ 1 - F(\\beta_0 + \\beta_1 X_i) $ をあわせて $n$ 個乗じたものとなる。個の確率を $ \\beta_0, \\beta_1 $ の関数と考えれば、次のような尤度関数を得ることができる。\n",
    "\n",
    "$ L(\\beta_0, \\beta_1) = \\Pi_{Y_i = 1} F(\\beta_0 + \\beta_1 X_i) \\cdot \\Pi_{Y_i = 0} [1 - F(\\beta_0 + \\beta_1 X_i)] $\n",
    "\n",
    "最尤推定量 $ \\hat\\beta_0, \\hat\\beta_1 $ は $ L(\\beta_0, \\beta_1) $ を最大にするものである。"
   ]
  },
  {
   "cell_type": "markdown",
   "id": "2229d279-3daa-49ea-971f-82ed0ba4b535",
   "metadata": {},
   "source": [
    "尤度関数は積の形であるため、数学的な取り扱いを容易にするために両辺の対数を取ることが通例である(**対数尤度関数**)。\n",
    "\n",
    "$ log L(\\beta_0, \\beta_1) = \\sum^n_{i = 1} \\{Y_i log F(\\beta_0 + \\beta_1 X_i) + (1 - Y_i) log [1 - F(\\beta_0 + \\beta_1 X_i)]\\} $\n"
   ]
  },
  {
   "cell_type": "markdown",
   "id": "8b4a1077-7dbd-4be5-9df1-f41e175f8723",
   "metadata": {},
   "source": [
    "$ log L(\\beta_0, \\beta_1) $ を最大にする推定量の計算に際しては、複雑な関数形であるため、一般の回帰分析のように解析的に連立方程式の解を求めることはできない。そのため、実際の推定ではニュートン法などの標準的なアルゴリズムによって数値計算で $ \\beta_0, \\beta_1 $ の値を求めることになる。"
   ]
  },
  {
   "cell_type": "markdown",
   "id": "4d398f35-af3a-4a41-8e64-ae0f1f42c547",
   "metadata": {},
   "source": [
    "ロジット・モデルの最尤推定量 $ \\hat\\beta_0, \\hat\\beta_1 $ は一致推定量であり、標本の大きさが増加するにしたがって $ \\beta_0, \\beta_1 $ の真の母数に近づく。ただし、不偏性は一般に成り立たない。\n",
    "\n",
    "また、回帰分析と同様、母数に関する $t-$分布を使った $ \\beta_0, \\beta_1 $ についての仮説検定を行うことができる (自由度は $n-2$)。\n",
    "\n",
    "個々の母数ではなく、いくつかの母数についての仮説を同時に検定する場合は、$\\chi^2$ 分布に基づく尤度比検定を行う。"
   ]
  },
  {
   "cell_type": "code",
   "execution_count": 2,
   "id": "d6840e03-6691-4f72-adb3-0f766b50fe88",
   "metadata": {
    "tags": []
   },
   "outputs": [],
   "source": [
    "# モジュールとデータの読み込み\n",
    "import numpy as np\n",
    "import statsmodels.api as sm\n",
    "\n",
    "spector_data = sm.datasets.spector.load()\n",
    "spector_data.exog = sm.add_constant(spector_data.exog)"
   ]
  },
  {
   "cell_type": "code",
   "execution_count": 5,
   "id": "bbdd4688-71f9-482e-a939-ad544a52633e",
   "metadata": {
    "tags": []
   },
   "outputs": [
    {
     "name": "stdout",
     "output_type": "stream",
     "text": [
      "                           Logit Regression Results                           \n",
      "==============================================================================\n",
      "Dep. Variable:                  GRADE   No. Observations:                   32\n",
      "Model:                          Logit   Df Residuals:                       28\n",
      "Method:                           MLE   Df Model:                            3\n",
      "Date:                Fri, 18 Aug 2023   Pseudo R-squ.:                  0.3740\n",
      "Time:                        02:59:12   Log-Likelihood:                -12.890\n",
      "converged:                       True   LL-Null:                       -20.592\n",
      "Covariance Type:            nonrobust   LLR p-value:                  0.001502\n",
      "==============================================================================\n",
      "                 coef    std err          z      P>|z|      [0.025      0.975]\n",
      "------------------------------------------------------------------------------\n",
      "const        -13.0213      4.931     -2.641      0.008     -22.687      -3.356\n",
      "GPA            2.8261      1.263      2.238      0.025       0.351       5.301\n",
      "TUCE           0.0952      0.142      0.672      0.501      -0.182       0.373\n",
      "PSI            2.3787      1.065      2.234      0.025       0.292       4.465\n",
      "==============================================================================\n"
     ]
    }
   ],
   "source": [
    "# ロジット・モデルの当てはめとサマリ\n",
    "logit_mod = sm.Logit(spector_data.endog, spector_data.exog)\n",
    "logit_res = logit_mod.fit(disp=0)\n",
    "\n",
    "print(logit_res.summary())"
   ]
  },
  {
   "cell_type": "markdown",
   "id": "35cbd748-42fd-4ab8-a0e7-6f21faabbc2b",
   "metadata": {},
   "source": [
    "Method の欄にある MLE は最尤推定法 most likelihood estimation のことである。  \n",
    "Log-Likelihood の欄にあるのが対数尤度の値である。  \n",
    "LL-Null の欄にあるのは、定数項以外の係数がすべて0である場合の対数尤度の値である。  \n",
    "LLR p-value の欄にあるのは、定数項以外の係数がすべて0であるという帰無仮説のもとでのp値。この場合、有意水準1%で帰無仮説は棄却され、各説明変数は被説明変数の結果に影響していると言える。  \n",
    "Pseudo R-squ の欄にあるのは、最小二乗法を用いた回帰モデルにおける決定係数の代替である。LL-Null から Log-Likelihood を引いたものを、LL-Null で割った値が表示される。"
   ]
  },
  {
   "cell_type": "markdown",
   "id": "ec952092-84eb-4634-a128-60bf3ae5af49",
   "metadata": {},
   "source": [
    "### **確率の推定**"
   ]
  },
  {
   "cell_type": "markdown",
   "id": "163fdb84-e4c9-44c9-b198-64766c16cba1",
   "metadata": {},
   "source": [
    "$ Y_i=1 $ となる確率 $ P(Y_i=1|X_i) $ の推定値を得るには、最尤推定量 $ \\hat\\beta_0, \\hat\\beta_1 $ を使い、$ \\hat{P_i} = F(\\hat\\beta_0 + \\hat\\beta_1 X_i) $ で推定する。\n",
    "\n",
    "$ \\hat{P_i} $ は確率変数であり、区間推定や仮説検定を行うことができる。そのためにはその標本分布を知る必要があるが、これは一般的に難しい。ただし、その漸近分布は $ \\hat{P_i} $ の $n$ が十分大きい時に $N(P_i, f(\\hat\\beta_0 + \\hat\\beta_1 X_i)^2 \\cdot (\\sigma_0^2 + \\sigma_1^2 X_i^2 + 2 \\sigma_{01} X_i)) $ で近似できる。  \n",
    "ただし、$ \\sigma_0^2, \\sigma_1^2 $ はそれぞれ $ \\hat\\beta_0, \\hat\\beta_1 $ の漸近分布を、$ \\sigma_{01} $ はその漸近共分散、$f(z)$ は $\\epsilon_i$ の密度関数。"
   ]
  },
  {
   "cell_type": "markdown",
   "id": "4f38f74e-cfeb-4ca1-98c3-d23943cfacee",
   "metadata": {
    "tags": []
   },
   "source": [
    "### **参考文献**"
   ]
  },
  {
   "cell_type": "markdown",
   "id": "d2786114-d18c-411f-bfaa-79482fd85348",
   "metadata": {},
   "source": [
    "- 東京大学教養学部統計学教室編『自然科学の統計学』(東京大学出版会、1992年)"
   ]
  }
 ],
 "metadata": {
  "kernelspec": {
   "display_name": "Python 3 (ipykernel)",
   "language": "python",
   "name": "python3"
  },
  "language_info": {
   "codemirror_mode": {
    "name": "ipython",
    "version": 3
   },
   "file_extension": ".py",
   "mimetype": "text/x-python",
   "name": "python",
   "nbconvert_exporter": "python",
   "pygments_lexer": "ipython3",
   "version": "3.11.3"
  }
 },
 "nbformat": 4,
 "nbformat_minor": 5
}
